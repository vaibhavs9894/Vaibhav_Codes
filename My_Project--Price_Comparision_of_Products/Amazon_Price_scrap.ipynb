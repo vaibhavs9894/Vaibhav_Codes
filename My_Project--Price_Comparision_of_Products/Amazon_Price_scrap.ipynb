{
 "cells": [
  {
   "cell_type": "code",
   "execution_count": 1,
   "id": "a144da17-518f-4e3b-a827-83d0bada5248",
   "metadata": {},
   "outputs": [],
   "source": [
    "from selenium import webdriver\n",
    "from webdriver_manager.chrome import ChromeDriverManager\n",
    "import time\n",
    "import pandas as pd"
   ]
  },
  {
   "cell_type": "code",
   "execution_count": 2,
   "id": "d6e839be-0479-438b-b314-6cf39986d0eb",
   "metadata": {},
   "outputs": [
    {
     "name": "stderr",
     "output_type": "stream",
     "text": [
      "\n",
      "\n",
      "====== WebDriver manager ======\n",
      "Current google-chrome version is 92.0.4515\n",
      "Get LATEST driver version for 92.0.4515\n",
      "Driver [C:\\Users\\Lenovo\\.wdm\\drivers\\chromedriver\\win32\\92.0.4515.43\\chromedriver.exe] found in cache\n"
     ]
    }
   ],
   "source": [
    "driver = webdriver.Chrome(ChromeDriverManager().install())"
   ]
  },
  {
   "cell_type": "code",
   "execution_count": 3,
   "id": "8fb4fc86-3f52-4f17-be6c-2a91f044dd32",
   "metadata": {},
   "outputs": [],
   "source": [
    "url =\"https://www.amazon.in/s?k=earbuds\"\n",
    "driver.get(url)\n",
    "time.sleep(2)"
   ]
  },
  {
   "cell_type": "code",
   "execution_count": 6,
   "id": "8f27c934-83a8-47a1-bdce-621d49a3f53f",
   "metadata": {},
   "outputs": [
    {
     "name": "stdout",
     "output_type": "stream",
     "text": [
      "<selenium.webdriver.remote.webelement.WebElement (session=\"07441bacf059bb63573754a932eb9780\", element=\"3b24c8ad-0914-4aca-a458-edee7ef0abfe\")>\n"
     ]
    }
   ],
   "source": [
    "main_area = driver.find_element_by_css_selector(\"div.s-main-slot.s-result-list.s-search-results.sg-row\")\n",
    "print(main_area)"
   ]
  },
  {
   "cell_type": "code",
   "execution_count": 23,
   "id": "c26a6986-8b65-4cea-b829-985eca51dfd2",
   "metadata": {},
   "outputs": [],
   "source": [
    "price = main_area.find_elements_by_css_selector('span.a-price-whole')\n"
   ]
  },
  {
   "cell_type": "code",
   "execution_count": 24,
   "id": "699fe1c5-0265-4b02-adba-d6fc555f7a5a",
   "metadata": {},
   "outputs": [
    {
     "name": "stdout",
     "output_type": "stream",
     "text": [
      "[{'price': '9,980'}, {'price': '10,990'}, {'price': '21,990'}, {'price': '10,990'}, {'price': '7,977'}, {'price': '699'}, {'price': '999'}, {'price': '699'}, {'price': '4,482'}, {'price': '1,899'}, {'price': '1,199'}, {'price': ''}, {'price': '799'}, {'price': '999'}, {'price': '999'}, {'price': '1,099'}, {'price': '749'}, {'price': '899'}, {'price': '749'}, {'price': '999'}, {'price': '1,999'}, {'price': '599'}, {'price': '999'}, {'price': '499'}, {'price': '1,999'}, {'price': '1,099'}, {'price': '541'}, {'price': '1,299'}, {'price': '1,498'}]\n"
     ]
    }
   ],
   "source": [
    "data = []\n",
    "for a in price:\n",
    "    data.append({\n",
    "        \n",
    "        'price':a.text})\n",
    "print(data)\n",
    "pd.DataFrame(data).to_csv(\"Amazon_price.csv\")"
   ]
  },
  {
   "cell_type": "code",
   "execution_count": 41,
   "id": "32c7add7-99d4-4fe2-a785-42283bca479d",
   "metadata": {},
   "outputs": [
    {
     "ename": "NameError",
     "evalue": "name 'target' is not defined",
     "output_type": "error",
     "traceback": [
      "\u001b[1;31m---------------------------------------------------------------------------\u001b[0m",
      "\u001b[1;31mNameError\u001b[0m                                 Traceback (most recent call last)",
      "\u001b[1;32m<ipython-input-41-8539b615de62>\u001b[0m in \u001b[0;36m<module>\u001b[1;34m\u001b[0m\n\u001b[1;32m----> 1\u001b[1;33m \u001b[0mrows\u001b[0m \u001b[1;33m=\u001b[0m \u001b[0mtarget\u001b[0m\u001b[1;33m.\u001b[0m\u001b[0mfind_elements_by_css_selector\u001b[0m\u001b[1;33m(\u001b[0m\u001b[1;34m'span'\u001b[0m\u001b[1;33m)\u001b[0m\u001b[1;33m\u001b[0m\u001b[1;33m\u001b[0m\u001b[0m\n\u001b[0m\u001b[0;32m      2\u001b[0m \u001b[0mprint\u001b[0m\u001b[1;33m(\u001b[0m\u001b[0mlen\u001b[0m\u001b[1;33m(\u001b[0m\u001b[0mrows\u001b[0m\u001b[1;33m)\u001b[0m\u001b[1;33m,\u001b[0m\u001b[1;34m' records found'\u001b[0m\u001b[1;33m)\u001b[0m\u001b[1;33m\u001b[0m\u001b[1;33m\u001b[0m\u001b[0m\n\u001b[0;32m      3\u001b[0m \u001b[1;33m\u001b[0m\u001b[0m\n\u001b[0;32m      4\u001b[0m \u001b[1;32mfor\u001b[0m \u001b[0mrecord\u001b[0m \u001b[1;32min\u001b[0m \u001b[0mrows\u001b[0m\u001b[1;33m:\u001b[0m\u001b[1;33m\u001b[0m\u001b[1;33m\u001b[0m\u001b[0m\n\u001b[0;32m      5\u001b[0m        \u001b[0mname\u001b[0m \u001b[1;33m=\u001b[0m \u001b[0mrecord\u001b[0m\u001b[1;33m.\u001b[0m\u001b[0mfind_element_by_css_selector\u001b[0m\u001b[1;33m(\u001b[0m\u001b[1;34m'td:nth-child(1)'\u001b[0m\u001b[1;33m)\u001b[0m\u001b[1;33m.\u001b[0m\u001b[0mtext\u001b[0m\u001b[1;33m\u001b[0m\u001b[1;33m\u001b[0m\u001b[0m\n",
      "\u001b[1;31mNameError\u001b[0m: name 'target' is not defined"
     ]
    }
   ],
   "source": [
    "\n",
    "rows = target.find_elements_by_css_selector('span')\n",
    "print(len(rows),' records found')\n",
    "\n",
    "for record in rows:\n",
    "       name = record.find_element_by_css_selector('td:nth-child(1)').text"
   ]
  },
  {
   "cell_type": "code",
   "execution_count": 39,
   "id": "2aa47908-437e-4087-92fa-5aeb5f1499c1",
   "metadata": {},
   "outputs": [
    {
     "name": "stdout",
     "output_type": "stream",
     "text": [
      "[]\n"
     ]
    }
   ],
   "source": [
    "bata = []\n",
    "for b in name:\n",
    "    bata.append({\n",
    "        \n",
    "        'name':b.text})\n",
    "print(bata)"
   ]
  },
  {
   "cell_type": "code",
   "execution_count": null,
   "id": "b32409f0-856c-401e-b4a8-b666a9b6c6d3",
   "metadata": {},
   "outputs": [],
   "source": []
  },
  {
   "cell_type": "code",
   "execution_count": null,
   "id": "bcfdaa49-09a1-4600-9521-b2ff26b778eb",
   "metadata": {},
   "outputs": [],
   "source": []
  }
 ],
 "metadata": {
  "kernelspec": {
   "display_name": "Python 3",
   "language": "python",
   "name": "python3"
  },
  "language_info": {
   "codemirror_mode": {
    "name": "ipython",
    "version": 3
   },
   "file_extension": ".py",
   "mimetype": "text/x-python",
   "name": "python",
   "nbconvert_exporter": "python",
   "pygments_lexer": "ipython3",
   "version": "3.9.0"
  }
 },
 "nbformat": 4,
 "nbformat_minor": 5
}
