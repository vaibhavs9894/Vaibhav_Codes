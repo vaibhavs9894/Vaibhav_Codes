{
 "cells": [
  {
   "cell_type": "code",
   "execution_count": 6,
   "id": "a144da17-518f-4e3b-a827-83d0bada5248",
   "metadata": {},
   "outputs": [],
   "source": [
    "from selenium import webdriver\n",
    "from webdriver_manager.chrome import ChromeDriverManager\n",
    "import time\n",
    "import pandas as pd"
   ]
  },
  {
   "cell_type": "code",
   "execution_count": 7,
   "id": "d6e839be-0479-438b-b314-6cf39986d0eb",
   "metadata": {},
   "outputs": [
    {
     "name": "stderr",
     "output_type": "stream",
     "text": [
      "\n",
      "\n",
      "====== WebDriver manager ======\n",
      "Current google-chrome version is 92.0.4515\n",
      "Get LATEST driver version for 92.0.4515\n",
      "Driver [C:\\Users\\Lenovo\\.wdm\\drivers\\chromedriver\\win32\\92.0.4515.43\\chromedriver.exe] found in cache\n"
     ]
    }
   ],
   "source": [
    "driver = webdriver.Chrome(ChromeDriverManager().install())"
   ]
  },
  {
   "cell_type": "code",
   "execution_count": 8,
   "id": "8fb4fc86-3f52-4f17-be6c-2a91f044dd32",
   "metadata": {},
   "outputs": [],
   "source": [
    "url =\"https://www.amazon.in/s?k=earbuds\"\n",
    "driver.get(url)\n",
    "time.sleep(2)"
   ]
  },
  {
   "cell_type": "code",
   "execution_count": 9,
   "id": "8f27c934-83a8-47a1-bdce-621d49a3f53f",
   "metadata": {},
   "outputs": [
    {
     "name": "stdout",
     "output_type": "stream",
     "text": [
      "<selenium.webdriver.remote.webelement.WebElement (session=\"17f7b30aef8f7ce4d259890e8f92c6e4\", element=\"8f4d38fc-3cea-4208-af57-b570bac306b2\")>\n"
     ]
    }
   ],
   "source": [
    "main_area = driver.find_element_by_css_selector(\"div.s-main-slot.s-result-list.s-search-results.sg-row\")\n",
    "print(main_area)"
   ]
  },
  {
   "cell_type": "code",
   "execution_count": 10,
   "id": "c26a6986-8b65-4cea-b829-985eca51dfd2",
   "metadata": {},
   "outputs": [],
   "source": [
    "price = main_area.find_elements_by_css_selector('span.a-price-whole')\n"
   ]
  },
  {
   "cell_type": "code",
   "execution_count": 11,
   "id": "699fe1c5-0265-4b02-adba-d6fc555f7a5a",
   "metadata": {},
   "outputs": [
    {
     "name": "stdout",
     "output_type": "stream",
     "text": [
      "[{'price': '1,799'}, {'price': '1,799'}, {'price': '1,799'}, {'price': '10,990'}, {'price': '699'}, {'price': '999'}, {'price': '799'}, {'price': '1,999'}, {'price': '1,890'}, {'price': '1,199'}, {'price': ''}, {'price': '999'}, {'price': '999'}, {'price': '749'}, {'price': '899'}, {'price': '999'}, {'price': '2,499'}, {'price': '1,799'}, {'price': '999'}, {'price': '1,099'}, {'price': '599'}, {'price': '999'}, {'price': '1,099'}, {'price': '1,999'}, {'price': '1,299'}, {'price': '1,299'}, {'price': '999'}, {'price': '5,615'}]\n"
     ]
    }
   ],
   "source": [
    "data = []\n",
    "for a in price:\n",
    "    data.append({\n",
    "        \n",
    "        'price':a.text})\n",
    "print(data)\n",
    "pd.DataFrame(data).to_csv(\"Amazon_price.csv\")"
   ]
  },
  {
   "cell_type": "code",
   "execution_count": 12,
   "id": "32c7add7-99d4-4fe2-a785-42283bca479d",
   "metadata": {},
   "outputs": [
    {
     "data": {
      "text/html": [
       "<div>\n",
       "<style scoped>\n",
       "    .dataframe tbody tr th:only-of-type {\n",
       "        vertical-align: middle;\n",
       "    }\n",
       "\n",
       "    .dataframe tbody tr th {\n",
       "        vertical-align: top;\n",
       "    }\n",
       "\n",
       "    .dataframe thead th {\n",
       "        text-align: right;\n",
       "    }\n",
       "</style>\n",
       "<table border=\"1\" class=\"dataframe\">\n",
       "  <thead>\n",
       "    <tr style=\"text-align: right;\">\n",
       "      <th></th>\n",
       "      <th>Unnamed: 0</th>\n",
       "      <th>price</th>\n",
       "    </tr>\n",
       "  </thead>\n",
       "  <tbody>\n",
       "    <tr>\n",
       "      <th>0</th>\n",
       "      <td>0</td>\n",
       "      <td>1,799</td>\n",
       "    </tr>\n",
       "    <tr>\n",
       "      <th>1</th>\n",
       "      <td>1</td>\n",
       "      <td>1,799</td>\n",
       "    </tr>\n",
       "    <tr>\n",
       "      <th>2</th>\n",
       "      <td>2</td>\n",
       "      <td>1,799</td>\n",
       "    </tr>\n",
       "    <tr>\n",
       "      <th>3</th>\n",
       "      <td>3</td>\n",
       "      <td>10,990</td>\n",
       "    </tr>\n",
       "    <tr>\n",
       "      <th>4</th>\n",
       "      <td>4</td>\n",
       "      <td>699</td>\n",
       "    </tr>\n",
       "  </tbody>\n",
       "</table>\n",
       "</div>"
      ],
      "text/plain": [
       "   Unnamed: 0   price\n",
       "0           0   1,799\n",
       "1           1   1,799\n",
       "2           2   1,799\n",
       "3           3  10,990\n",
       "4           4     699"
      ]
     },
     "execution_count": 12,
     "metadata": {},
     "output_type": "execute_result"
    }
   ],
   "source": [
    "da= pd.read_csv(\"Amazon_price.csv\")\n",
    "da.head()"
   ]
  },
  {
   "cell_type": "code",
   "execution_count": 13,
   "id": "2aa47908-437e-4087-92fa-5aeb5f1499c1",
   "metadata": {},
   "outputs": [
    {
     "data": {
      "text/html": [
       "<div>\n",
       "<style scoped>\n",
       "    .dataframe tbody tr th:only-of-type {\n",
       "        vertical-align: middle;\n",
       "    }\n",
       "\n",
       "    .dataframe tbody tr th {\n",
       "        vertical-align: top;\n",
       "    }\n",
       "\n",
       "    .dataframe thead th {\n",
       "        text-align: right;\n",
       "    }\n",
       "</style>\n",
       "<table border=\"1\" class=\"dataframe\">\n",
       "  <thead>\n",
       "    <tr style=\"text-align: right;\">\n",
       "      <th></th>\n",
       "      <th>Unnamed: 0</th>\n",
       "      <th>price</th>\n",
       "    </tr>\n",
       "  </thead>\n",
       "  <tbody>\n",
       "    <tr>\n",
       "      <th>0</th>\n",
       "      <td>0</td>\n",
       "      <td>1799.0</td>\n",
       "    </tr>\n",
       "    <tr>\n",
       "      <th>1</th>\n",
       "      <td>1</td>\n",
       "      <td>1799.0</td>\n",
       "    </tr>\n",
       "    <tr>\n",
       "      <th>2</th>\n",
       "      <td>2</td>\n",
       "      <td>1799.0</td>\n",
       "    </tr>\n",
       "    <tr>\n",
       "      <th>3</th>\n",
       "      <td>3</td>\n",
       "      <td>10990.0</td>\n",
       "    </tr>\n",
       "    <tr>\n",
       "      <th>4</th>\n",
       "      <td>4</td>\n",
       "      <td>699.0</td>\n",
       "    </tr>\n",
       "  </tbody>\n",
       "</table>\n",
       "</div>"
      ],
      "text/plain": [
       "   Unnamed: 0    price\n",
       "0           0   1799.0\n",
       "1           1   1799.0\n",
       "2           2   1799.0\n",
       "3           3  10990.0\n",
       "4           4    699.0"
      ]
     },
     "execution_count": 13,
     "metadata": {},
     "output_type": "execute_result"
    }
   ],
   "source": [
    "da['price'] = da['price'].replace({'₹': '', ',': '', '\\(': '-', '\\)': ''}, regex=True).astype(float)\n",
    "da.head()"
   ]
  },
  {
   "cell_type": "code",
   "execution_count": 14,
   "id": "b32409f0-856c-401e-b4a8-b666a9b6c6d3",
   "metadata": {},
   "outputs": [],
   "source": [
    "pd.DataFrame(da).to_csv(\"Amazon_price.csv\")"
   ]
  },
  {
   "cell_type": "code",
   "execution_count": 15,
   "id": "bcfdaa49-09a1-4600-9521-b2ff26b778eb",
   "metadata": {},
   "outputs": [
    {
     "data": {
      "text/plain": [
       "599.0"
      ]
     },
     "execution_count": 15,
     "metadata": {},
     "output_type": "execute_result"
    }
   ],
   "source": [
    "da['price'].min()"
   ]
  },
  {
   "cell_type": "code",
   "execution_count": 16,
   "id": "3faefede-a494-41ff-81d5-e55ff2ec3c63",
   "metadata": {},
   "outputs": [
    {
     "data": {
      "text/plain": [
       "10990.0"
      ]
     },
     "execution_count": 16,
     "metadata": {},
     "output_type": "execute_result"
    }
   ],
   "source": [
    "da['price'].max()"
   ]
  },
  {
   "cell_type": "code",
   "execution_count": 20,
   "id": "92e10ef3-1430-4ed7-ab84-d0d6bf977bf3",
   "metadata": {},
   "outputs": [],
   "source": [
    "url =\"https://www.flipkart.com/search?q=earbuds\"\n",
    "driver.get(url)\n",
    "time.sleep(2)"
   ]
  },
  {
   "cell_type": "code",
   "execution_count": 21,
   "id": "9f7c348f-2aa4-4cd9-ac73-19f53e479e0f",
   "metadata": {},
   "outputs": [
    {
     "name": "stdout",
     "output_type": "stream",
     "text": [
      "<selenium.webdriver.remote.webelement.WebElement (session=\"17f7b30aef8f7ce4d259890e8f92c6e4\", element=\"b41437a4-2fb1-4a8b-910e-61eca5a28185\")>\n"
     ]
    }
   ],
   "source": [
    "main_area = driver.find_element_by_css_selector(\"div._36fx1h._6t1WkM._3HqJxg\")\n",
    "print(main_area)"
   ]
  },
  {
   "cell_type": "code",
   "execution_count": 22,
   "id": "5234c6fd-3b5d-4b83-be0b-9165830a7f38",
   "metadata": {},
   "outputs": [],
   "source": [
    "price = main_area.find_elements_by_css_selector('div._30jeq3')"
   ]
  },
  {
   "cell_type": "code",
   "execution_count": 26,
   "id": "9235ccaf-6c63-4871-8fc9-3160e50796f9",
   "metadata": {},
   "outputs": [
    {
     "name": "stdout",
     "output_type": "stream",
     "text": [
      "[{'price': '₹1,049'}, {'price': '₹2,299'}, {'price': '₹399'}, {'price': '₹1,499'}, {'price': '₹2,299'}, {'price': '₹1,049'}, {'price': '₹1,499'}, {'price': '₹899'}, {'price': '₹1,199'}, {'price': '₹599'}, {'price': '₹1,499'}, {'price': '₹187'}, {'price': '₹1,299'}, {'price': '₹399'}, {'price': '₹1,599'}, {'price': '₹1,499'}, {'price': '₹1,299'}, {'price': '₹999'}, {'price': '₹449'}, {'price': '₹1,199'}, {'price': '₹1,499'}, {'price': '₹2,699'}, {'price': '₹2,699'}, {'price': '₹399'}, {'price': '₹299'}, {'price': '₹1,399'}, {'price': '₹599'}, {'price': '₹399'}, {'price': '₹449'}, {'price': '₹3,299'}, {'price': '₹449'}, {'price': '₹449'}, {'price': '₹1,499'}, {'price': '₹449'}, {'price': '₹1,999'}, {'price': '₹1,049'}, {'price': '₹289'}, {'price': '₹1,499'}, {'price': '₹899'}, {'price': '₹1,599'}, {'price': '₹1,499'}, {'price': '₹399'}, {'price': '₹1,499'}, {'price': '₹399'}, {'price': '₹3,299'}]\n"
     ]
    }
   ],
   "source": [
    "data = []\n",
    "for a in price:\n",
    "    data.append({\n",
    "        \n",
    "        'price':a.text})\n",
    "print(data)\n",
    "pd.DataFrame(data).to_csv(\"flipkart_price.csv\")"
   ]
  },
  {
   "cell_type": "code",
   "execution_count": 27,
   "id": "b5f66746-d097-4a48-8175-795d850b2bc1",
   "metadata": {},
   "outputs": [
    {
     "data": {
      "text/html": [
       "<div>\n",
       "<style scoped>\n",
       "    .dataframe tbody tr th:only-of-type {\n",
       "        vertical-align: middle;\n",
       "    }\n",
       "\n",
       "    .dataframe tbody tr th {\n",
       "        vertical-align: top;\n",
       "    }\n",
       "\n",
       "    .dataframe thead th {\n",
       "        text-align: right;\n",
       "    }\n",
       "</style>\n",
       "<table border=\"1\" class=\"dataframe\">\n",
       "  <thead>\n",
       "    <tr style=\"text-align: right;\">\n",
       "      <th></th>\n",
       "      <th>Unnamed: 0</th>\n",
       "      <th>price</th>\n",
       "    </tr>\n",
       "  </thead>\n",
       "  <tbody>\n",
       "    <tr>\n",
       "      <th>0</th>\n",
       "      <td>0</td>\n",
       "      <td>₹1,049</td>\n",
       "    </tr>\n",
       "    <tr>\n",
       "      <th>1</th>\n",
       "      <td>1</td>\n",
       "      <td>₹2,299</td>\n",
       "    </tr>\n",
       "    <tr>\n",
       "      <th>2</th>\n",
       "      <td>2</td>\n",
       "      <td>₹399</td>\n",
       "    </tr>\n",
       "    <tr>\n",
       "      <th>3</th>\n",
       "      <td>3</td>\n",
       "      <td>₹1,499</td>\n",
       "    </tr>\n",
       "    <tr>\n",
       "      <th>4</th>\n",
       "      <td>4</td>\n",
       "      <td>₹2,299</td>\n",
       "    </tr>\n",
       "  </tbody>\n",
       "</table>\n",
       "</div>"
      ],
      "text/plain": [
       "   Unnamed: 0   price\n",
       "0           0  ₹1,049\n",
       "1           1  ₹2,299\n",
       "2           2    ₹399\n",
       "3           3  ₹1,499\n",
       "4           4  ₹2,299"
      ]
     },
     "execution_count": 27,
     "metadata": {},
     "output_type": "execute_result"
    }
   ],
   "source": [
    "df= pd.read_csv(\"Flipkart_price.csv\")\n",
    "df.head()"
   ]
  },
  {
   "cell_type": "code",
   "execution_count": 28,
   "id": "a909267f-6c1e-44ba-b99f-af8c588944cc",
   "metadata": {
    "tags": []
   },
   "outputs": [
    {
     "data": {
      "text/html": [
       "<div>\n",
       "<style scoped>\n",
       "    .dataframe tbody tr th:only-of-type {\n",
       "        vertical-align: middle;\n",
       "    }\n",
       "\n",
       "    .dataframe tbody tr th {\n",
       "        vertical-align: top;\n",
       "    }\n",
       "\n",
       "    .dataframe thead th {\n",
       "        text-align: right;\n",
       "    }\n",
       "</style>\n",
       "<table border=\"1\" class=\"dataframe\">\n",
       "  <thead>\n",
       "    <tr style=\"text-align: right;\">\n",
       "      <th></th>\n",
       "      <th>Unnamed: 0</th>\n",
       "      <th>price</th>\n",
       "    </tr>\n",
       "  </thead>\n",
       "  <tbody>\n",
       "    <tr>\n",
       "      <th>0</th>\n",
       "      <td>0</td>\n",
       "      <td>1049.0</td>\n",
       "    </tr>\n",
       "    <tr>\n",
       "      <th>1</th>\n",
       "      <td>1</td>\n",
       "      <td>2299.0</td>\n",
       "    </tr>\n",
       "    <tr>\n",
       "      <th>2</th>\n",
       "      <td>2</td>\n",
       "      <td>399.0</td>\n",
       "    </tr>\n",
       "    <tr>\n",
       "      <th>3</th>\n",
       "      <td>3</td>\n",
       "      <td>1499.0</td>\n",
       "    </tr>\n",
       "    <tr>\n",
       "      <th>4</th>\n",
       "      <td>4</td>\n",
       "      <td>2299.0</td>\n",
       "    </tr>\n",
       "  </tbody>\n",
       "</table>\n",
       "</div>"
      ],
      "text/plain": [
       "   Unnamed: 0   price\n",
       "0           0  1049.0\n",
       "1           1  2299.0\n",
       "2           2   399.0\n",
       "3           3  1499.0\n",
       "4           4  2299.0"
      ]
     },
     "execution_count": 28,
     "metadata": {},
     "output_type": "execute_result"
    }
   ],
   "source": [
    "df['price'] = df['price'].replace({'₹': '', ',': '', '\\(': '-', '\\)': ''}, regex=True).astype(float)\n",
    "df.head()"
   ]
  },
  {
   "cell_type": "code",
   "execution_count": 29,
   "id": "f99d7013-43c6-41b2-8d0e-b5d22bb8f555",
   "metadata": {},
   "outputs": [],
   "source": [
    "pd.DataFrame(df).to_csv(\"Flipkart_price.csv\")"
   ]
  },
  {
   "cell_type": "code",
   "execution_count": null,
   "id": "294f2096-1dd7-42d6-b848-1e8999506d69",
   "metadata": {},
   "outputs": [],
   "source": []
  },
  {
   "cell_type": "code",
   "execution_count": null,
   "id": "0208ccbb-0c0f-4a6a-bbc1-9da5ac80ad8d",
   "metadata": {},
   "outputs": [],
   "source": []
  },
  {
   "cell_type": "code",
   "execution_count": 27,
   "id": "317e422a-3d39-46cb-bb0a-fd6af6bdf268",
   "metadata": {},
   "outputs": [],
   "source": []
  },
  {
   "cell_type": "code",
   "execution_count": null,
   "id": "1df3ec36-bcd0-45cc-b97e-a7a13fa0e0f7",
   "metadata": {},
   "outputs": [],
   "source": []
  },
  {
   "cell_type": "code",
   "execution_count": 29,
   "id": "b20a1870-98a1-445c-b5f7-0cec0f7a6c91",
   "metadata": {},
   "outputs": [],
   "source": []
  },
  {
   "cell_type": "code",
   "execution_count": null,
   "id": "01c47c29-fba0-4b45-bf85-7ba33b76f3f4",
   "metadata": {},
   "outputs": [],
   "source": []
  }
 ],
 "metadata": {
  "kernelspec": {
   "display_name": "Python 3",
   "language": "python",
   "name": "python3"
  },
  "language_info": {
   "codemirror_mode": {
    "name": "ipython",
    "version": 3
   },
   "file_extension": ".py",
   "mimetype": "text/x-python",
   "name": "python",
   "nbconvert_exporter": "python",
   "pygments_lexer": "ipython3",
   "version": "3.9.0"
  }
 },
 "nbformat": 4,
 "nbformat_minor": 5
}
