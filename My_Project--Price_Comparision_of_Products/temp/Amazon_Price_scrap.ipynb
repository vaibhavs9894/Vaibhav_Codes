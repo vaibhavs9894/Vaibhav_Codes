{
 "cells": [
  {
   "cell_type": "code",
   "execution_count": 1,
   "id": "a144da17-518f-4e3b-a827-83d0bada5248",
   "metadata": {},
   "outputs": [],
   "source": [
    "from selenium import webdriver\n",
    "from webdriver_manager.chrome import ChromeDriverManager\n",
    "import time\n",
    "import pandas as pd"
   ]
  },
  {
   "cell_type": "code",
   "execution_count": 2,
   "id": "d6e839be-0479-438b-b314-6cf39986d0eb",
   "metadata": {},
   "outputs": [
    {
     "name": "stderr",
     "output_type": "stream",
     "text": [
      "\n",
      "\n",
      "====== WebDriver manager ======\n",
      "Current google-chrome version is 92.0.4515\n",
      "Get LATEST driver version for 92.0.4515\n",
      "Driver [C:\\Users\\Lenovo\\.wdm\\drivers\\chromedriver\\win32\\92.0.4515.43\\chromedriver.exe] found in cache\n"
     ]
    }
   ],
   "source": [
    "driver = webdriver.Chrome(ChromeDriverManager().install())"
   ]
  },
  {
   "cell_type": "code",
   "execution_count": 3,
   "id": "8fb4fc86-3f52-4f17-be6c-2a91f044dd32",
   "metadata": {},
   "outputs": [],
   "source": [
    "url =\"https://www.amazon.in/s?k=earbuds\"\n",
    "driver.get(url)\n",
    "time.sleep(2)"
   ]
  },
  {
   "cell_type": "code",
   "execution_count": 4,
   "id": "8f27c934-83a8-47a1-bdce-621d49a3f53f",
   "metadata": {},
   "outputs": [
    {
     "name": "stdout",
     "output_type": "stream",
     "text": [
      "<selenium.webdriver.remote.webelement.WebElement (session=\"7c3c39467b87b9f30ae8ce9c297d9204\", element=\"3a5bfd57-0074-4bf4-aaa1-0f9fef661001\")>\n"
     ]
    }
   ],
   "source": [
    "main_area = driver.find_element_by_css_selector(\"div.s-main-slot.s-result-list.s-search-results.sg-row\")\n",
    "print(main_area)"
   ]
  },
  {
   "cell_type": "code",
   "execution_count": 5,
   "id": "c26a6986-8b65-4cea-b829-985eca51dfd2",
   "metadata": {},
   "outputs": [],
   "source": [
    "price = main_area.find_elements_by_css_selector('span.a-price-whole')\n"
   ]
  },
  {
   "cell_type": "code",
   "execution_count": 14,
   "id": "699fe1c5-0265-4b02-adba-d6fc555f7a5a",
   "metadata": {},
   "outputs": [
    {
     "name": "stdout",
     "output_type": "stream",
     "text": [
      "[{'price': '1,799'}, {'price': '1,799'}, {'price': '10,990'}, {'price': '1,799'}, {'price': '699'}, {'price': '999'}, {'price': '1,999'}, {'price': '1,899'}, {'price': '1,199'}, {'price': ''}, {'price': '1,099'}, {'price': '799'}, {'price': '999'}, {'price': '999'}, {'price': '749'}, {'price': '5,615'}, {'price': '899'}, {'price': '999'}, {'price': '1,299'}, {'price': '1,099'}, {'price': '599'}, {'price': '1,999'}, {'price': '1,299'}, {'price': '1,299'}, {'price': '1,299'}, {'price': '749'}, {'price': '1,199'}]\n"
     ]
    }
   ],
   "source": [
    "data = []\n",
    "for a in price:\n",
    "    data.append({\n",
    "        \n",
    "        'price':a.text})\n",
    "print(data)\n",
    "pd.DataFrame(data).to_csv(\"Amazon_price.csv\")"
   ]
  },
  {
   "cell_type": "code",
   "execution_count": 21,
   "id": "32c7add7-99d4-4fe2-a785-42283bca479d",
   "metadata": {},
   "outputs": [
    {
     "data": {
      "text/html": [
       "<div>\n",
       "<style scoped>\n",
       "    .dataframe tbody tr th:only-of-type {\n",
       "        vertical-align: middle;\n",
       "    }\n",
       "\n",
       "    .dataframe tbody tr th {\n",
       "        vertical-align: top;\n",
       "    }\n",
       "\n",
       "    .dataframe thead th {\n",
       "        text-align: right;\n",
       "    }\n",
       "</style>\n",
       "<table border=\"1\" class=\"dataframe\">\n",
       "  <thead>\n",
       "    <tr style=\"text-align: right;\">\n",
       "      <th></th>\n",
       "      <th>Unnamed: 0</th>\n",
       "      <th>Unnamed: 0.1</th>\n",
       "      <th>price</th>\n",
       "    </tr>\n",
       "  </thead>\n",
       "  <tbody>\n",
       "    <tr>\n",
       "      <th>0</th>\n",
       "      <td>0</td>\n",
       "      <td>0</td>\n",
       "      <td>1799.0</td>\n",
       "    </tr>\n",
       "    <tr>\n",
       "      <th>1</th>\n",
       "      <td>1</td>\n",
       "      <td>1</td>\n",
       "      <td>1799.0</td>\n",
       "    </tr>\n",
       "    <tr>\n",
       "      <th>2</th>\n",
       "      <td>2</td>\n",
       "      <td>2</td>\n",
       "      <td>10990.0</td>\n",
       "    </tr>\n",
       "    <tr>\n",
       "      <th>3</th>\n",
       "      <td>3</td>\n",
       "      <td>3</td>\n",
       "      <td>1799.0</td>\n",
       "    </tr>\n",
       "    <tr>\n",
       "      <th>4</th>\n",
       "      <td>4</td>\n",
       "      <td>4</td>\n",
       "      <td>699.0</td>\n",
       "    </tr>\n",
       "  </tbody>\n",
       "</table>\n",
       "</div>"
      ],
      "text/plain": [
       "   Unnamed: 0  Unnamed: 0.1    price\n",
       "0           0             0   1799.0\n",
       "1           1             1   1799.0\n",
       "2           2             2  10990.0\n",
       "3           3             3   1799.0\n",
       "4           4             4    699.0"
      ]
     },
     "execution_count": 21,
     "metadata": {},
     "output_type": "execute_result"
    }
   ],
   "source": [
    "da= pd.read_csv(\"Amazon_price.csv\")\n",
    "da.head()"
   ]
  },
  {
   "cell_type": "code",
   "execution_count": 22,
   "id": "2aa47908-437e-4087-92fa-5aeb5f1499c1",
   "metadata": {},
   "outputs": [
    {
     "data": {
      "text/html": [
       "<div>\n",
       "<style scoped>\n",
       "    .dataframe tbody tr th:only-of-type {\n",
       "        vertical-align: middle;\n",
       "    }\n",
       "\n",
       "    .dataframe tbody tr th {\n",
       "        vertical-align: top;\n",
       "    }\n",
       "\n",
       "    .dataframe thead th {\n",
       "        text-align: right;\n",
       "    }\n",
       "</style>\n",
       "<table border=\"1\" class=\"dataframe\">\n",
       "  <thead>\n",
       "    <tr style=\"text-align: right;\">\n",
       "      <th></th>\n",
       "      <th>Unnamed: 0</th>\n",
       "      <th>Unnamed: 0.1</th>\n",
       "      <th>price</th>\n",
       "    </tr>\n",
       "  </thead>\n",
       "  <tbody>\n",
       "    <tr>\n",
       "      <th>0</th>\n",
       "      <td>0</td>\n",
       "      <td>0</td>\n",
       "      <td>1799.0</td>\n",
       "    </tr>\n",
       "    <tr>\n",
       "      <th>1</th>\n",
       "      <td>1</td>\n",
       "      <td>1</td>\n",
       "      <td>1799.0</td>\n",
       "    </tr>\n",
       "    <tr>\n",
       "      <th>2</th>\n",
       "      <td>2</td>\n",
       "      <td>2</td>\n",
       "      <td>10990.0</td>\n",
       "    </tr>\n",
       "    <tr>\n",
       "      <th>3</th>\n",
       "      <td>3</td>\n",
       "      <td>3</td>\n",
       "      <td>1799.0</td>\n",
       "    </tr>\n",
       "    <tr>\n",
       "      <th>4</th>\n",
       "      <td>4</td>\n",
       "      <td>4</td>\n",
       "      <td>699.0</td>\n",
       "    </tr>\n",
       "  </tbody>\n",
       "</table>\n",
       "</div>"
      ],
      "text/plain": [
       "   Unnamed: 0  Unnamed: 0.1    price\n",
       "0           0             0   1799.0\n",
       "1           1             1   1799.0\n",
       "2           2             2  10990.0\n",
       "3           3             3   1799.0\n",
       "4           4             4    699.0"
      ]
     },
     "execution_count": 22,
     "metadata": {},
     "output_type": "execute_result"
    }
   ],
   "source": [
    "da['price'] = da['price'].replace({'₹': '', ',': '', '\\(': '-', '\\)': ''}, regex=True).astype(float)\n",
    "da.head()"
   ]
  },
  {
   "cell_type": "code",
   "execution_count": 23,
   "id": "b32409f0-856c-401e-b4a8-b666a9b6c6d3",
   "metadata": {},
   "outputs": [],
   "source": [
    "pd.DataFrame(da).to_csv(\"Amazon_price.csv\")"
   ]
  },
  {
   "cell_type": "code",
   "execution_count": 24,
   "id": "bcfdaa49-09a1-4600-9521-b2ff26b778eb",
   "metadata": {},
   "outputs": [
    {
     "data": {
      "text/plain": [
       "599.0"
      ]
     },
     "execution_count": 24,
     "metadata": {},
     "output_type": "execute_result"
    }
   ],
   "source": [
    "da['price'].min()"
   ]
  },
  {
   "cell_type": "code",
   "execution_count": 25,
   "id": "3faefede-a494-41ff-81d5-e55ff2ec3c63",
   "metadata": {},
   "outputs": [
    {
     "data": {
      "text/plain": [
       "10990.0"
      ]
     },
     "execution_count": 25,
     "metadata": {},
     "output_type": "execute_result"
    }
   ],
   "source": [
    "da['price'].max()"
   ]
  },
  {
   "cell_type": "code",
   "execution_count": 26,
   "id": "a909267f-6c1e-44ba-b99f-af8c588944cc",
   "metadata": {},
   "outputs": [
    {
     "data": {
      "text/html": [
       "<div>\n",
       "<style scoped>\n",
       "    .dataframe tbody tr th:only-of-type {\n",
       "        vertical-align: middle;\n",
       "    }\n",
       "\n",
       "    .dataframe tbody tr th {\n",
       "        vertical-align: top;\n",
       "    }\n",
       "\n",
       "    .dataframe thead th {\n",
       "        text-align: right;\n",
       "    }\n",
       "</style>\n",
       "<table border=\"1\" class=\"dataframe\">\n",
       "  <thead>\n",
       "    <tr style=\"text-align: right;\">\n",
       "      <th></th>\n",
       "      <th>Unnamed: 0</th>\n",
       "      <th>name</th>\n",
       "      <th>price</th>\n",
       "    </tr>\n",
       "  </thead>\n",
       "  <tbody>\n",
       "    <tr>\n",
       "      <th>0</th>\n",
       "      <td>0</td>\n",
       "      <td>realme Buds Wireless 2 with Dart Charge and Ac...</td>\n",
       "      <td>₹2,299</td>\n",
       "    </tr>\n",
       "    <tr>\n",
       "      <th>1</th>\n",
       "      <td>1</td>\n",
       "      <td>realme Buds Wireless 2 with Dart Charge and Ac...</td>\n",
       "      <td>₹2,299</td>\n",
       "    </tr>\n",
       "    <tr>\n",
       "      <th>2</th>\n",
       "      <td>2</td>\n",
       "      <td>boAt Rockerz 255F Pro+ Bluetooth Headset</td>\n",
       "      <td>₹1,499</td>\n",
       "    </tr>\n",
       "    <tr>\n",
       "      <th>3</th>\n",
       "      <td>3</td>\n",
       "      <td>boAt Bassheads 100 Wired Headset</td>\n",
       "      <td>₹399</td>\n",
       "    </tr>\n",
       "    <tr>\n",
       "      <th>4</th>\n",
       "      <td>4</td>\n",
       "      <td>boAt Airdopes 131 Bluetooth Headset</td>\n",
       "      <td>₹1,049</td>\n",
       "    </tr>\n",
       "  </tbody>\n",
       "</table>\n",
       "</div>"
      ],
      "text/plain": [
       "   Unnamed: 0                                               name   price\n",
       "0           0  realme Buds Wireless 2 with Dart Charge and Ac...  ₹2,299\n",
       "1           1  realme Buds Wireless 2 with Dart Charge and Ac...  ₹2,299\n",
       "2           2           boAt Rockerz 255F Pro+ Bluetooth Headset  ₹1,499\n",
       "3           3                   boAt Bassheads 100 Wired Headset    ₹399\n",
       "4           4                boAt Airdopes 131 Bluetooth Headset  ₹1,049"
      ]
     },
     "execution_count": 26,
     "metadata": {},
     "output_type": "execute_result"
    }
   ],
   "source": [
    "df= pd.read_csv(\"Flipkart_price.csv\")\n",
    "df.head()"
   ]
  },
  {
   "cell_type": "code",
   "execution_count": 27,
   "id": "317e422a-3d39-46cb-bb0a-fd6af6bdf268",
   "metadata": {},
   "outputs": [],
   "source": [
    "df['price'] = df['price'].replace({'₹': '', ',': '', '\\(': '-', '\\)': ''}, regex=True).astype(float)"
   ]
  },
  {
   "cell_type": "code",
   "execution_count": 28,
   "id": "1df3ec36-bcd0-45cc-b97e-a7a13fa0e0f7",
   "metadata": {},
   "outputs": [
    {
     "data": {
      "text/html": [
       "<div>\n",
       "<style scoped>\n",
       "    .dataframe tbody tr th:only-of-type {\n",
       "        vertical-align: middle;\n",
       "    }\n",
       "\n",
       "    .dataframe tbody tr th {\n",
       "        vertical-align: top;\n",
       "    }\n",
       "\n",
       "    .dataframe thead th {\n",
       "        text-align: right;\n",
       "    }\n",
       "</style>\n",
       "<table border=\"1\" class=\"dataframe\">\n",
       "  <thead>\n",
       "    <tr style=\"text-align: right;\">\n",
       "      <th></th>\n",
       "      <th>Unnamed: 0</th>\n",
       "      <th>name</th>\n",
       "      <th>price</th>\n",
       "    </tr>\n",
       "  </thead>\n",
       "  <tbody>\n",
       "    <tr>\n",
       "      <th>0</th>\n",
       "      <td>0</td>\n",
       "      <td>realme Buds Wireless 2 with Dart Charge and Ac...</td>\n",
       "      <td>2299.0</td>\n",
       "    </tr>\n",
       "    <tr>\n",
       "      <th>1</th>\n",
       "      <td>1</td>\n",
       "      <td>realme Buds Wireless 2 with Dart Charge and Ac...</td>\n",
       "      <td>2299.0</td>\n",
       "    </tr>\n",
       "    <tr>\n",
       "      <th>2</th>\n",
       "      <td>2</td>\n",
       "      <td>boAt Rockerz 255F Pro+ Bluetooth Headset</td>\n",
       "      <td>1499.0</td>\n",
       "    </tr>\n",
       "    <tr>\n",
       "      <th>3</th>\n",
       "      <td>3</td>\n",
       "      <td>boAt Bassheads 100 Wired Headset</td>\n",
       "      <td>399.0</td>\n",
       "    </tr>\n",
       "    <tr>\n",
       "      <th>4</th>\n",
       "      <td>4</td>\n",
       "      <td>boAt Airdopes 131 Bluetooth Headset</td>\n",
       "      <td>1049.0</td>\n",
       "    </tr>\n",
       "  </tbody>\n",
       "</table>\n",
       "</div>"
      ],
      "text/plain": [
       "   Unnamed: 0                                               name   price\n",
       "0           0  realme Buds Wireless 2 with Dart Charge and Ac...  2299.0\n",
       "1           1  realme Buds Wireless 2 with Dart Charge and Ac...  2299.0\n",
       "2           2           boAt Rockerz 255F Pro+ Bluetooth Headset  1499.0\n",
       "3           3                   boAt Bassheads 100 Wired Headset   399.0\n",
       "4           4                boAt Airdopes 131 Bluetooth Headset  1049.0"
      ]
     },
     "execution_count": 28,
     "metadata": {},
     "output_type": "execute_result"
    }
   ],
   "source": [
    "df.head()"
   ]
  },
  {
   "cell_type": "code",
   "execution_count": 29,
   "id": "b20a1870-98a1-445c-b5f7-0cec0f7a6c91",
   "metadata": {},
   "outputs": [],
   "source": [
    "pd.DataFrame(df).to_csv(\"Flipkart_price.csv\")"
   ]
  },
  {
   "cell_type": "code",
   "execution_count": null,
   "id": "01c47c29-fba0-4b45-bf85-7ba33b76f3f4",
   "metadata": {},
   "outputs": [],
   "source": []
  }
 ],
 "metadata": {
  "kernelspec": {
   "display_name": "Python 3",
   "language": "python",
   "name": "python3"
  },
  "language_info": {
   "codemirror_mode": {
    "name": "ipython",
    "version": 3
   },
   "file_extension": ".py",
   "mimetype": "text/x-python",
   "name": "python",
   "nbconvert_exporter": "python",
   "pygments_lexer": "ipython3",
   "version": "3.9.0"
  }
 },
 "nbformat": 4,
 "nbformat_minor": 5
}
