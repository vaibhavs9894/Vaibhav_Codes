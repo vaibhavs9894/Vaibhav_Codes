{
 "cells": [
  {
   "cell_type": "code",
   "execution_count": 1,
   "id": "41133036-d170-47b3-972a-1e7f0aac340a",
   "metadata": {},
   "outputs": [],
   "source": [
    "from selenium import webdriver\n",
    "from webdriver_manager.chrome import ChromeDriverManager\n",
    "import time\n",
    "import pandas as pd"
   ]
  },
  {
   "cell_type": "code",
   "execution_count": 2,
   "id": "78645503-5099-4e99-a6d1-bc065db58c88",
   "metadata": {},
   "outputs": [
    {
     "name": "stderr",
     "output_type": "stream",
     "text": [
      "\n",
      "\n",
      "====== WebDriver manager ======\n",
      "Current google-chrome version is 92.0.4515\n",
      "Get LATEST driver version for 92.0.4515\n",
      "Driver [C:\\Users\\Lenovo\\.wdm\\drivers\\chromedriver\\win32\\92.0.4515.43\\chromedriver.exe] found in cache\n"
     ]
    }
   ],
   "source": [
    "driver = webdriver.Chrome(ChromeDriverManager().install())"
   ]
  },
  {
   "cell_type": "code",
   "execution_count": 3,
   "id": "44981dd0-8259-47a4-bee8-863766bdc383",
   "metadata": {
    "tags": []
   },
   "outputs": [],
   "source": [
    "url =\"https://www.flipkart.com/search?q=earbuds\"\n",
    "driver.get(url)\n",
    "time.sleep(2)"
   ]
  },
  {
   "cell_type": "code",
   "execution_count": 5,
   "id": "567ea8bf-834e-42be-93df-2d0eb3559323",
   "metadata": {},
   "outputs": [
    {
     "name": "stdout",
     "output_type": "stream",
     "text": [
      "<selenium.webdriver.remote.webelement.WebElement (session=\"d747a2b4993b482fd3b0a8172cb8e28b\", element=\"95705158-9dd1-44af-9a2a-28eb30af2a3c\")>\n"
     ]
    }
   ],
   "source": [
    "main_area = driver.find_element_by_css_selector(\"div._36fx1h._6t1WkM._3HqJxg\")\n",
    "print(main_area)"
   ]
  },
  {
   "cell_type": "code",
   "execution_count": 7,
   "id": "c85dafca-b4b1-4cdd-874b-07103d0de9c5",
   "metadata": {},
   "outputs": [],
   "source": [
    "price = main_area.find_elements_by_css_selector('div._30jeq3')"
   ]
  },
  {
   "cell_type": "code",
   "execution_count": 8,
   "id": "f84a76f7-98bc-470e-96a5-5a894007c048",
   "metadata": {},
   "outputs": [
    {
     "name": "stdout",
     "output_type": "stream",
     "text": [
      "[{'price': '₹1,049'}, {'price': '₹2,299'}, {'price': '₹399'}, {'price': '₹1,499'}, {'price': '₹2,299'}, {'price': '₹1,049'}, {'price': '₹1,499'}, {'price': '₹1,199'}, {'price': '₹899'}, {'price': '₹599'}, {'price': '₹1,499'}, {'price': '₹1,299'}, {'price': '₹187'}, {'price': '₹1,599'}, {'price': '₹399'}, {'price': '₹1,499'}, {'price': '₹299'}, {'price': '₹999'}, {'price': '₹449'}, {'price': '₹449'}, {'price': '₹1,199'}, {'price': '₹1,499'}, {'price': '₹2,699'}, {'price': '₹1,999'}, {'price': '₹2,699'}, {'price': '₹399'}, {'price': '₹1,399'}, {'price': '₹599'}, {'price': '₹449'}, {'price': '₹3,299'}, {'price': '₹399'}, {'price': '₹1,299'}, {'price': '₹449'}, {'price': '₹1,499'}, {'price': '₹449'}, {'price': '₹1,049'}, {'price': '₹349'}, {'price': '₹289'}, {'price': '₹1,499'}, {'price': '₹899'}, {'price': '₹1,499'}, {'price': '₹399'}, {'price': '₹349'}, {'price': '₹1,499'}, {'price': '₹399'}]\n"
     ]
    }
   ],
   "source": [
    "data = []\n",
    "for a in price:\n",
    "    data.append({\n",
    "        \n",
    "        'price':a.text})\n",
    "print(data)\n",
    "pd.DataFrame(data).to_csv(\"f_price.csv\")"
   ]
  },
  {
   "cell_type": "code",
   "execution_count": null,
   "id": "6da474c5-bfdc-444d-aa5e-f105c871c7a0",
   "metadata": {},
   "outputs": [],
   "source": [
    "da['price'] = da['price'].replace({'₹': '', ',': '', '\\(': '-', '\\)': ''}, regex=True).astype(float)\n",
    "da.head()"
   ]
  }
 ],
 "metadata": {
  "kernelspec": {
   "display_name": "Python 3",
   "language": "python",
   "name": "python3"
  },
  "language_info": {
   "codemirror_mode": {
    "name": "ipython",
    "version": 3
   },
   "file_extension": ".py",
   "mimetype": "text/x-python",
   "name": "python",
   "nbconvert_exporter": "python",
   "pygments_lexer": "ipython3",
   "version": "3.9.0"
  }
 },
 "nbformat": 4,
 "nbformat_minor": 5
}
