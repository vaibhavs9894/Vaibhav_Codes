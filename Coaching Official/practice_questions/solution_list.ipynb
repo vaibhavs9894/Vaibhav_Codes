{
 "metadata": {
  "language_info": {
   "codemirror_mode": {
    "name": "ipython",
    "version": 3
   },
   "file_extension": ".py",
   "mimetype": "text/x-python",
   "name": "python",
   "nbconvert_exporter": "python",
   "pygments_lexer": "ipython3",
   "version": 3
  },
  "orig_nbformat": 2
 },
 "nbformat": 4,
 "nbformat_minor": 2,
 "cells": [
  {
   "cell_type": "code",
   "execution_count": null,
   "metadata": {},
   "outputs": [],
   "source": [
    "wap to create a list of names and then remove names that contain 'a' or 'o' char\r\n",
    "In [13]:\r\n",
    "names = ['Ritesh Kumar Sharma','Vivek Sharma','pope','elex','elin']\r\n",
    "names_without_a_or_o = [name for name in names if ('a' not in name.lower() and 'o' not in name.lower())]\r\n",
    "print(names_without_a_or_o)\r\n",
    "['elex', 'elin']\r\n",
    "wap to create a nested list using user input, the length of list depends upon the user\r\n",
    "In [20]:\r\n",
    "nest_list = []\r\n",
    "print('enter values seperated by commas')\r\n",
    "while True:\r\n",
    "    items = input('enter values >> ').split(',')\r\n",
    "    if len(items)>1  and items[0] !='':\r\n",
    "        nest_list.append(items)\r\n",
    "    else:\r\n",
    "        break\r\n",
    "print(nest_list)\r\n",
    "enter values seperated by commas\r\n",
    "[['1', '2', '3', '3', '3', '3', '3', '3', '3', '3', '3', '3', '3', '3', '3', '', '3', '3', '3', '2', '3', '3', '3', '']]\r\n",
    "write a program to store all the armstrong number till 100000\r\n",
    "In [23]:\r\n",
    "for num in range(1,100000):\r\n",
    "    pow = len(str(num))\r\n",
    "    temp = num\r\n",
    "    total = 0\r\n",
    "    while num >0:\r\n",
    "        digit = num % 10\r\n",
    "        total += digit ** pow \r\n",
    "        num = num // 10\r\n",
    "    if temp == total:\r\n",
    "        print(temp, end=',')\r\n",
    "1,2,3,4,5,6,7,8,9,153,370,371,407,1634,8208,9474,54748,92727,93084,\r\n",
    "wap to generate a list of cricketers entered by user only if the first letter of the name is capital. the size will depend upon user.\r\n",
    "In [24]:\r\n",
    "cricketers = []\r\n",
    "while True:\r\n",
    "    name = input('cricketers name: ')\r\n",
    "    if not name:\r\n",
    "        break\r\n",
    "    elif name[0].isupper():\r\n",
    "        cricketers.append(name)\r\n",
    "print(cricketers)\r\n",
    "['Sachin', 'Dhoni', 'Saurav', 'Dravid']\r\n",
    "In [ ]:\r\n"
   ]
  }
 ]
}